{
 "cells": [
  {
   "cell_type": "markdown",
   "metadata": {},
   "source": [
    "## Challenge Exercise\n",
    "\n",
    "Create a neural network that is capable of finding the volume of a cylinder given the radius of its base (r) and its height (h). Assume that the radius and height of the cylinder are both in the range 0.5 to 2.0. Simulate the necessary training dataset.\n",
    "<p>\n",
    "Hint (highlight to see):\n",
    "<p>\n",
    "The input features will be r and h and the label will be $\\pi r^2 h$\n",
    "Create random values for r and h and compute V.\n",
    "Your dataset will consist of r, h and V.\n",
    "Then, use a DNN regressor.\n",
    "Make sure to generate enough data.\n",
    "</p>"
   ]
  },
  {
   "cell_type": "code",
   "execution_count": 1,
   "metadata": {},
   "outputs": [
    {
     "name": "stderr",
     "output_type": "stream",
     "text": [
      "C:\\Users\\vu86683\\AppData\\Local\\Anaconda\\lib\\site-packages\\h5py\\__init__.py:36: FutureWarning: Conversion of the second argument of issubdtype from `float` to `np.floating` is deprecated. In future, it will be treated as `np.float64 == np.dtype(float).type`.\n",
      "  from ._conv import register_converters as _register_converters\n"
     ]
    }
   ],
   "source": [
    "import tensorflow as tf\n",
    "import pandas as pd\n",
    "import numpy as np"
   ]
  },
  {
   "cell_type": "code",
   "execution_count": 2,
   "metadata": {},
   "outputs": [],
   "source": [
    "def initialise_data(n_rows, random_seed=696):\n",
    "  \"\"\" Generate random dataset for model training \"\"\"\n",
    "  # Seed\n",
    "  np.random.seed(random_seed)\n",
    "  \n",
    "  # Generate r and h\n",
    "  frame = pd.DataFrame({\n",
    "    'r': np.random.rand(n_rows),\n",
    "    'h': np.random.rand(n_rows)\n",
    "  })\n",
    "  \n",
    "  # Compute v\n",
    "  frame['v'] = np.pi*frame['r']**2 * frame['h']\n",
    "  \n",
    "  return frame"
   ]
  },
  {
   "cell_type": "code",
   "execution_count": 3,
   "metadata": {},
   "outputs": [],
   "source": [
    "class tfUtils:\n",
    "  def __init__(self, num_epochs=50, features=['h','r'], label='v', batch_size=64, queue_capacity=1000):\n",
    "    self.num_epochs = num_epochs\n",
    "    self.label = label\n",
    "    self.batch_size = batch_size\n",
    "    self.queue_capacity = queue_capacity\n",
    "    self.features = features\n",
    "    \n",
    "  def get_feature_cols(self):\n",
    "    return [tf.feature_column.numeric_column(k) for k in self.features]\n",
    "\n",
    "  def get_train_input_fn(self, df):\n",
    "    return tf.estimator.inputs.pandas_input_fn(\n",
    "      x = df,\n",
    "      y = df[self.label],\n",
    "      batch_size = self.batch_size,\n",
    "      num_epochs = self.num_epochs,\n",
    "      shuffle = True,\n",
    "      queue_capacity = self.queue_capacity\n",
    "    )\n",
    "\n",
    "  def get_eval_input_fn(self, df):\n",
    "    return tf.estimator.inputs.pandas_input_fn(\n",
    "      x = df,\n",
    "      y = df[self.label],\n",
    "      batch_size = self.batch_size,\n",
    "      shuffle = True,\n",
    "      queue_capacity = self.queue_capacity\n",
    "    )\n",
    "\n",
    "  def get_prediction_input_fn(self, df):\n",
    "    return tf.estimator.inputs.pandas_input_fn(\n",
    "      x = df,\n",
    "      y = None,\n",
    "      batch_size = self.batch_size,\n",
    "      shuffle = False,\n",
    "      queue_capacity = self.queue_capacity\n",
    "    )\n",
    "  \n",
    "  def compute_rmse(self, model, df):\n",
    "    metrics = model.evaluate(input_fn=self.get_eval_input_fn(df))\n",
    "    print('RMSE = ', np.sqrt(metrics['average_loss']))"
   ]
  },
  {
   "cell_type": "code",
   "execution_count": 4,
   "metadata": {},
   "outputs": [],
   "source": [
    "# Generate train and test set\n",
    "train = initialise_data(20000)\n",
    "test = initialise_data(500, 969)"
   ]
  },
  {
   "cell_type": "code",
   "execution_count": 5,
   "metadata": {},
   "outputs": [],
   "source": [
    "# Initialise class for data processing\n",
    "tf_utils = tfUtils()"
   ]
  },
  {
   "cell_type": "code",
   "execution_count": 6,
   "metadata": {},
   "outputs": [
    {
     "name": "stdout",
     "output_type": "stream",
     "text": [
      "WARNING:tensorflow:Using temporary folder as model directory: C:\\Users\\vu86683\\AppData\\Local\\Temp\\tmp6co6m564\n"
     ]
    }
   ],
   "source": [
    "# Set logging settings\n",
    "tf.logging.set_verbosity(tf.logging.WARN)\n",
    "\n",
    "# Initialise DNN Regressor\n",
    "model = tf.estimator.DNNRegressor(\n",
    "          hidden_units=[64, 16, 4],\n",
    "          feature_columns=tf_utils.get_feature_cols()\n",
    "          )\n",
    "\n",
    "# Train model\n",
    "model.train(input_fn=tf_utils.get_train_input_fn(train));"
   ]
  },
  {
   "cell_type": "code",
   "execution_count": 7,
   "metadata": {},
   "outputs": [
    {
     "name": "stdout",
     "output_type": "stream",
     "text": [
      "RMSE =  0.0061833714\n",
      "None\n"
     ]
    }
   ],
   "source": [
    "# Compute error\n",
    "print(tf_utils.compute_rmse(model, test))"
   ]
  }
 ],
 "metadata": {
  "kernelspec": {
   "display_name": "Python 3",
   "language": "python",
   "name": "python3"
  },
  "language_info": {
   "codemirror_mode": {
    "name": "ipython",
    "version": 3
   },
   "file_extension": ".py",
   "mimetype": "text/x-python",
   "name": "python",
   "nbconvert_exporter": "python",
   "pygments_lexer": "ipython3",
   "version": "3.6.5"
  }
 },
 "nbformat": 4,
 "nbformat_minor": 1
}
